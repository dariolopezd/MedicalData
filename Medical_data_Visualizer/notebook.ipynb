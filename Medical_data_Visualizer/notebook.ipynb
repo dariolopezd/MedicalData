{
  "cells": [
    {
      "cell_type": "markdown",
      "source": "# Medical data Visualizer",
      "metadata": {
        "tags": [],
        "cell_id": "f3937df354df46908ead3fb393ba3609",
        "is_collapsed": false,
        "formattedRanges": [],
        "deepnote_app_coordinates": {
          "h": 2,
          "w": 24,
          "x": 0,
          "y": null
        },
        "deepnote_cell_type": "text-cell-h1"
      }
    },
    {
      "cell_type": "markdown",
      "source": "Created by Darío López Díaz. Work in progress..",
      "metadata": {
        "cell_id": "3f1939cce6754f30a1734320b4360a56",
        "formattedRanges": [],
        "deepnote_app_coordinates": {
          "h": 2,
          "w": 8,
          "x": 0,
          "y": 0
        },
        "deepnote_cell_type": "text-cell-p"
      }
    },
    {
      "cell_type": "markdown",
      "source": "The idea of this project is to analyze the correlation between different diseases, in a medical examination Data Frame. The data represent patients and the columns represent information like body measurements, results from various blood tests, and lifestyle choices.  ",
      "metadata": {
        "tags": [],
        "cell_id": "d8d502893b334fd5af6d45b2210b5655",
        "is_collapsed": false,
        "formattedRanges": [],
        "deepnote_app_coordinates": {
          "h": 2,
          "w": 24,
          "x": 0,
          "y": 3
        },
        "deepnote_cell_type": "text-cell-p"
      }
    },
    {
      "cell_type": "code",
      "source": "import pandas as pd\nimport seaborn as sns\nimport matplotlib.pyplot as plt\nimport numpy as np",
      "metadata": {
        "tags": [],
        "cell_id": "06e5e163395a4f07adff36f1b668dba0",
        "source_hash": "f473f26c",
        "execution_start": 1685720403905,
        "execution_millis": 2362,
        "deepnote_app_coordinates": {
          "h": 5,
          "w": 24,
          "x": 0,
          "y": 6
        },
        "deepnote_to_be_reexecuted": false,
        "deepnote_cell_type": "code"
      },
      "outputs": [],
      "execution_count": null
    },
    {
      "cell_type": "markdown",
      "source": "The Data Frame looks in the following way:",
      "metadata": {
        "tags": [],
        "cell_id": "1df9becbd50648a99151ce4b56fbce1a",
        "is_collapsed": false,
        "formattedRanges": [],
        "deepnote_app_coordinates": {
          "h": 2,
          "w": 24,
          "x": 0,
          "y": 12
        },
        "deepnote_cell_type": "text-cell-p"
      }
    },
    {
      "cell_type": "code",
      "source": "df = pd.read_csv('medical_examination.csv')\ndf.head()",
      "metadata": {
        "tags": [],
        "cell_id": "8585e34018df4d5793893281b17d82f6",
        "source_hash": "ae94a72c",
        "execution_start": 1685720406269,
        "execution_millis": 141,
        "deepnote_app_coordinates": {
          "h": 5,
          "w": 24,
          "x": 0,
          "y": 15
        },
        "deepnote_to_be_reexecuted": false,
        "deepnote_cell_type": "code"
      },
      "outputs": [
        {
          "output_type": "execute_result",
          "execution_count": 2,
          "data": {
            "application/vnd.deepnote.dataframe.v3+json": {
              "column_count": 13,
              "row_count": 5,
              "columns": [
                {
                  "name": "id",
                  "dtype": "int64",
                  "stats": {
                    "unique_count": 5,
                    "nan_count": 0,
                    "min": "0",
                    "max": "4",
                    "histogram": [
                      {
                        "bin_start": 0,
                        "bin_end": 0.4,
                        "count": 1
                      },
                      {
                        "bin_start": 0.4,
                        "bin_end": 0.8,
                        "count": 0
                      },
                      {
                        "bin_start": 0.8,
                        "bin_end": 1.2000000000000002,
                        "count": 1
                      },
                      {
                        "bin_start": 1.2000000000000002,
                        "bin_end": 1.6,
                        "count": 0
                      },
                      {
                        "bin_start": 1.6,
                        "bin_end": 2,
                        "count": 0
                      },
                      {
                        "bin_start": 2,
                        "bin_end": 2.4000000000000004,
                        "count": 1
                      },
                      {
                        "bin_start": 2.4000000000000004,
                        "bin_end": 2.8000000000000003,
                        "count": 0
                      },
                      {
                        "bin_start": 2.8000000000000003,
                        "bin_end": 3.2,
                        "count": 1
                      },
                      {
                        "bin_start": 3.2,
                        "bin_end": 3.6,
                        "count": 0
                      },
                      {
                        "bin_start": 3.6,
                        "bin_end": 4,
                        "count": 1
                      }
                    ]
                  }
                },
                {
                  "name": "age",
                  "dtype": "int64",
                  "stats": {
                    "unique_count": 5,
                    "nan_count": 0,
                    "min": "17474",
                    "max": "20228",
                    "histogram": [
                      {
                        "bin_start": 17474,
                        "bin_end": 17749.4,
                        "count": 2
                      },
                      {
                        "bin_start": 17749.4,
                        "bin_end": 18024.8,
                        "count": 0
                      },
                      {
                        "bin_start": 18024.8,
                        "bin_end": 18300.2,
                        "count": 0
                      },
                      {
                        "bin_start": 18300.2,
                        "bin_end": 18575.6,
                        "count": 1
                      },
                      {
                        "bin_start": 18575.6,
                        "bin_end": 18851,
                        "count": 0
                      },
                      {
                        "bin_start": 18851,
                        "bin_end": 19126.4,
                        "count": 1
                      },
                      {
                        "bin_start": 19126.4,
                        "bin_end": 19401.8,
                        "count": 0
                      },
                      {
                        "bin_start": 19401.8,
                        "bin_end": 19677.2,
                        "count": 0
                      },
                      {
                        "bin_start": 19677.2,
                        "bin_end": 19952.6,
                        "count": 0
                      },
                      {
                        "bin_start": 19952.6,
                        "bin_end": 20228,
                        "count": 1
                      }
                    ]
                  }
                },
                {
                  "name": "gender",
                  "dtype": "int64",
                  "stats": {
                    "unique_count": 2,
                    "nan_count": 0,
                    "min": "1",
                    "max": "2",
                    "histogram": [
                      {
                        "bin_start": 1,
                        "bin_end": 1.1,
                        "count": 3
                      },
                      {
                        "bin_start": 1.1,
                        "bin_end": 1.2,
                        "count": 0
                      },
                      {
                        "bin_start": 1.2,
                        "bin_end": 1.3,
                        "count": 0
                      },
                      {
                        "bin_start": 1.3,
                        "bin_end": 1.4,
                        "count": 0
                      },
                      {
                        "bin_start": 1.4,
                        "bin_end": 1.5,
                        "count": 0
                      },
                      {
                        "bin_start": 1.5,
                        "bin_end": 1.6,
                        "count": 0
                      },
                      {
                        "bin_start": 1.6,
                        "bin_end": 1.7000000000000002,
                        "count": 0
                      },
                      {
                        "bin_start": 1.7000000000000002,
                        "bin_end": 1.8,
                        "count": 0
                      },
                      {
                        "bin_start": 1.8,
                        "bin_end": 1.9,
                        "count": 0
                      },
                      {
                        "bin_start": 1.9,
                        "bin_end": 2,
                        "count": 2
                      }
                    ]
                  }
                },
                {
                  "name": "height",
                  "dtype": "int64",
                  "stats": {
                    "unique_count": 4,
                    "nan_count": 0,
                    "min": "156",
                    "max": "169",
                    "histogram": [
                      {
                        "bin_start": 156,
                        "bin_end": 157.3,
                        "count": 2
                      },
                      {
                        "bin_start": 157.3,
                        "bin_end": 158.6,
                        "count": 0
                      },
                      {
                        "bin_start": 158.6,
                        "bin_end": 159.9,
                        "count": 0
                      },
                      {
                        "bin_start": 159.9,
                        "bin_end": 161.2,
                        "count": 0
                      },
                      {
                        "bin_start": 161.2,
                        "bin_end": 162.5,
                        "count": 0
                      },
                      {
                        "bin_start": 162.5,
                        "bin_end": 163.8,
                        "count": 0
                      },
                      {
                        "bin_start": 163.8,
                        "bin_end": 165.1,
                        "count": 1
                      },
                      {
                        "bin_start": 165.1,
                        "bin_end": 166.4,
                        "count": 0
                      },
                      {
                        "bin_start": 166.4,
                        "bin_end": 167.7,
                        "count": 0
                      },
                      {
                        "bin_start": 167.7,
                        "bin_end": 169,
                        "count": 2
                      }
                    ]
                  }
                },
                {
                  "name": "weight",
                  "dtype": "float64",
                  "stats": {
                    "unique_count": 5,
                    "nan_count": 0,
                    "min": "56.0",
                    "max": "85.0",
                    "histogram": [
                      {
                        "bin_start": 56,
                        "bin_end": 58.9,
                        "count": 1
                      },
                      {
                        "bin_start": 58.9,
                        "bin_end": 61.8,
                        "count": 0
                      },
                      {
                        "bin_start": 61.8,
                        "bin_end": 64.7,
                        "count": 2
                      },
                      {
                        "bin_start": 64.7,
                        "bin_end": 67.6,
                        "count": 0
                      },
                      {
                        "bin_start": 67.6,
                        "bin_end": 70.5,
                        "count": 0
                      },
                      {
                        "bin_start": 70.5,
                        "bin_end": 73.4,
                        "count": 0
                      },
                      {
                        "bin_start": 73.4,
                        "bin_end": 76.3,
                        "count": 0
                      },
                      {
                        "bin_start": 76.3,
                        "bin_end": 79.2,
                        "count": 0
                      },
                      {
                        "bin_start": 79.2,
                        "bin_end": 82.1,
                        "count": 1
                      },
                      {
                        "bin_start": 82.1,
                        "bin_end": 85,
                        "count": 1
                      }
                    ]
                  }
                },
                {
                  "name": "ap_hi",
                  "dtype": "int64",
                  "stats": {
                    "unique_count": 5,
                    "nan_count": 0,
                    "min": "100",
                    "max": "150",
                    "histogram": [
                      {
                        "bin_start": 100,
                        "bin_end": 105,
                        "count": 1
                      },
                      {
                        "bin_start": 105,
                        "bin_end": 110,
                        "count": 0
                      },
                      {
                        "bin_start": 110,
                        "bin_end": 115,
                        "count": 1
                      },
                      {
                        "bin_start": 115,
                        "bin_end": 120,
                        "count": 0
                      },
                      {
                        "bin_start": 120,
                        "bin_end": 125,
                        "count": 0
                      },
                      {
                        "bin_start": 125,
                        "bin_end": 130,
                        "count": 0
                      },
                      {
                        "bin_start": 130,
                        "bin_end": 135,
                        "count": 1
                      },
                      {
                        "bin_start": 135,
                        "bin_end": 140,
                        "count": 0
                      },
                      {
                        "bin_start": 140,
                        "bin_end": 145,
                        "count": 1
                      },
                      {
                        "bin_start": 145,
                        "bin_end": 150,
                        "count": 1
                      }
                    ]
                  }
                },
                {
                  "name": "ap_lo",
                  "dtype": "int64",
                  "stats": {
                    "unique_count": 5,
                    "nan_count": 0,
                    "min": "60",
                    "max": "100",
                    "histogram": [
                      {
                        "bin_start": 60,
                        "bin_end": 64,
                        "count": 1
                      },
                      {
                        "bin_start": 64,
                        "bin_end": 68,
                        "count": 0
                      },
                      {
                        "bin_start": 68,
                        "bin_end": 72,
                        "count": 1
                      },
                      {
                        "bin_start": 72,
                        "bin_end": 76,
                        "count": 0
                      },
                      {
                        "bin_start": 76,
                        "bin_end": 80,
                        "count": 0
                      },
                      {
                        "bin_start": 80,
                        "bin_end": 84,
                        "count": 1
                      },
                      {
                        "bin_start": 84,
                        "bin_end": 88,
                        "count": 0
                      },
                      {
                        "bin_start": 88,
                        "bin_end": 92,
                        "count": 1
                      },
                      {
                        "bin_start": 92,
                        "bin_end": 96,
                        "count": 0
                      },
                      {
                        "bin_start": 96,
                        "bin_end": 100,
                        "count": 1
                      }
                    ]
                  }
                },
                {
                  "name": "cholesterol",
                  "dtype": "int64",
                  "stats": {
                    "unique_count": 2,
                    "nan_count": 0,
                    "min": "1",
                    "max": "3",
                    "histogram": [
                      {
                        "bin_start": 1,
                        "bin_end": 1.2,
                        "count": 3
                      },
                      {
                        "bin_start": 1.2,
                        "bin_end": 1.4,
                        "count": 0
                      },
                      {
                        "bin_start": 1.4,
                        "bin_end": 1.6,
                        "count": 0
                      },
                      {
                        "bin_start": 1.6,
                        "bin_end": 1.8,
                        "count": 0
                      },
                      {
                        "bin_start": 1.8,
                        "bin_end": 2,
                        "count": 0
                      },
                      {
                        "bin_start": 2,
                        "bin_end": 2.2,
                        "count": 0
                      },
                      {
                        "bin_start": 2.2,
                        "bin_end": 2.4000000000000004,
                        "count": 0
                      },
                      {
                        "bin_start": 2.4000000000000004,
                        "bin_end": 2.6,
                        "count": 0
                      },
                      {
                        "bin_start": 2.6,
                        "bin_end": 2.8,
                        "count": 0
                      },
                      {
                        "bin_start": 2.8,
                        "bin_end": 3,
                        "count": 2
                      }
                    ]
                  }
                },
                {
                  "name": "gluc",
                  "dtype": "int64",
                  "stats": {
                    "unique_count": 1,
                    "nan_count": 0,
                    "min": "1",
                    "max": "1",
                    "histogram": [
                      {
                        "bin_start": 0.5,
                        "bin_end": 0.6,
                        "count": 0
                      },
                      {
                        "bin_start": 0.6,
                        "bin_end": 0.7,
                        "count": 0
                      },
                      {
                        "bin_start": 0.7,
                        "bin_end": 0.8,
                        "count": 0
                      },
                      {
                        "bin_start": 0.8,
                        "bin_end": 0.9,
                        "count": 0
                      },
                      {
                        "bin_start": 0.9,
                        "bin_end": 1,
                        "count": 0
                      },
                      {
                        "bin_start": 1,
                        "bin_end": 1.1,
                        "count": 5
                      },
                      {
                        "bin_start": 1.1,
                        "bin_end": 1.2000000000000002,
                        "count": 0
                      },
                      {
                        "bin_start": 1.2000000000000002,
                        "bin_end": 1.3,
                        "count": 0
                      },
                      {
                        "bin_start": 1.3,
                        "bin_end": 1.4,
                        "count": 0
                      },
                      {
                        "bin_start": 1.4,
                        "bin_end": 1.5,
                        "count": 0
                      }
                    ]
                  }
                },
                {
                  "name": "smoke",
                  "dtype": "int64",
                  "stats": {
                    "unique_count": 1,
                    "nan_count": 0,
                    "min": "0",
                    "max": "0",
                    "histogram": [
                      {
                        "bin_start": -0.5,
                        "bin_end": -0.4,
                        "count": 0
                      },
                      {
                        "bin_start": -0.4,
                        "bin_end": -0.3,
                        "count": 0
                      },
                      {
                        "bin_start": -0.3,
                        "bin_end": -0.19999999999999996,
                        "count": 0
                      },
                      {
                        "bin_start": -0.19999999999999996,
                        "bin_end": -0.09999999999999998,
                        "count": 0
                      },
                      {
                        "bin_start": -0.09999999999999998,
                        "bin_end": 0,
                        "count": 0
                      },
                      {
                        "bin_start": 0,
                        "bin_end": 0.10000000000000009,
                        "count": 5
                      },
                      {
                        "bin_start": 0.10000000000000009,
                        "bin_end": 0.20000000000000007,
                        "count": 0
                      },
                      {
                        "bin_start": 0.20000000000000007,
                        "bin_end": 0.30000000000000004,
                        "count": 0
                      },
                      {
                        "bin_start": 0.30000000000000004,
                        "bin_end": 0.4,
                        "count": 0
                      },
                      {
                        "bin_start": 0.4,
                        "bin_end": 0.5,
                        "count": 0
                      }
                    ]
                  }
                },
                {
                  "name": "alco",
                  "dtype": "int64",
                  "stats": {
                    "unique_count": 1,
                    "nan_count": 0,
                    "min": "0",
                    "max": "0",
                    "histogram": [
                      {
                        "bin_start": -0.5,
                        "bin_end": -0.4,
                        "count": 0
                      },
                      {
                        "bin_start": -0.4,
                        "bin_end": -0.3,
                        "count": 0
                      },
                      {
                        "bin_start": -0.3,
                        "bin_end": -0.19999999999999996,
                        "count": 0
                      },
                      {
                        "bin_start": -0.19999999999999996,
                        "bin_end": -0.09999999999999998,
                        "count": 0
                      },
                      {
                        "bin_start": -0.09999999999999998,
                        "bin_end": 0,
                        "count": 0
                      },
                      {
                        "bin_start": 0,
                        "bin_end": 0.10000000000000009,
                        "count": 5
                      },
                      {
                        "bin_start": 0.10000000000000009,
                        "bin_end": 0.20000000000000007,
                        "count": 0
                      },
                      {
                        "bin_start": 0.20000000000000007,
                        "bin_end": 0.30000000000000004,
                        "count": 0
                      },
                      {
                        "bin_start": 0.30000000000000004,
                        "bin_end": 0.4,
                        "count": 0
                      },
                      {
                        "bin_start": 0.4,
                        "bin_end": 0.5,
                        "count": 0
                      }
                    ]
                  }
                },
                {
                  "name": "active",
                  "dtype": "int64",
                  "stats": {
                    "unique_count": 2,
                    "nan_count": 0,
                    "min": "0",
                    "max": "1",
                    "histogram": [
                      {
                        "bin_start": 0,
                        "bin_end": 0.1,
                        "count": 2
                      },
                      {
                        "bin_start": 0.1,
                        "bin_end": 0.2,
                        "count": 0
                      },
                      {
                        "bin_start": 0.2,
                        "bin_end": 0.30000000000000004,
                        "count": 0
                      },
                      {
                        "bin_start": 0.30000000000000004,
                        "bin_end": 0.4,
                        "count": 0
                      },
                      {
                        "bin_start": 0.4,
                        "bin_end": 0.5,
                        "count": 0
                      },
                      {
                        "bin_start": 0.5,
                        "bin_end": 0.6000000000000001,
                        "count": 0
                      },
                      {
                        "bin_start": 0.6000000000000001,
                        "bin_end": 0.7000000000000001,
                        "count": 0
                      },
                      {
                        "bin_start": 0.7000000000000001,
                        "bin_end": 0.8,
                        "count": 0
                      },
                      {
                        "bin_start": 0.8,
                        "bin_end": 0.9,
                        "count": 0
                      },
                      {
                        "bin_start": 0.9,
                        "bin_end": 1,
                        "count": 3
                      }
                    ]
                  }
                },
                {
                  "name": "cardio",
                  "dtype": "int64",
                  "stats": {
                    "unique_count": 2,
                    "nan_count": 0,
                    "min": "0",
                    "max": "1",
                    "histogram": [
                      {
                        "bin_start": 0,
                        "bin_end": 0.1,
                        "count": 2
                      },
                      {
                        "bin_start": 0.1,
                        "bin_end": 0.2,
                        "count": 0
                      },
                      {
                        "bin_start": 0.2,
                        "bin_end": 0.30000000000000004,
                        "count": 0
                      },
                      {
                        "bin_start": 0.30000000000000004,
                        "bin_end": 0.4,
                        "count": 0
                      },
                      {
                        "bin_start": 0.4,
                        "bin_end": 0.5,
                        "count": 0
                      },
                      {
                        "bin_start": 0.5,
                        "bin_end": 0.6000000000000001,
                        "count": 0
                      },
                      {
                        "bin_start": 0.6000000000000001,
                        "bin_end": 0.7000000000000001,
                        "count": 0
                      },
                      {
                        "bin_start": 0.7000000000000001,
                        "bin_end": 0.8,
                        "count": 0
                      },
                      {
                        "bin_start": 0.8,
                        "bin_end": 0.9,
                        "count": 0
                      },
                      {
                        "bin_start": 0.9,
                        "bin_end": 1,
                        "count": 3
                      }
                    ]
                  }
                },
                {
                  "name": "_deepnote_index_column",
                  "dtype": "int64"
                }
              ],
              "rows": [
                {
                  "id": 0,
                  "age": 18393,
                  "gender": 2,
                  "height": 168,
                  "weight": 62,
                  "ap_hi": 110,
                  "ap_lo": 80,
                  "cholesterol": 1,
                  "gluc": 1,
                  "smoke": 0,
                  "alco": 0,
                  "active": 1,
                  "cardio": 0,
                  "_deepnote_index_column": 0
                },
                {
                  "id": 1,
                  "age": 20228,
                  "gender": 1,
                  "height": 156,
                  "weight": 85,
                  "ap_hi": 140,
                  "ap_lo": 90,
                  "cholesterol": 3,
                  "gluc": 1,
                  "smoke": 0,
                  "alco": 0,
                  "active": 1,
                  "cardio": 1,
                  "_deepnote_index_column": 1
                },
                {
                  "id": 2,
                  "age": 18857,
                  "gender": 1,
                  "height": 165,
                  "weight": 64,
                  "ap_hi": 130,
                  "ap_lo": 70,
                  "cholesterol": 3,
                  "gluc": 1,
                  "smoke": 0,
                  "alco": 0,
                  "active": 0,
                  "cardio": 1,
                  "_deepnote_index_column": 2
                },
                {
                  "id": 3,
                  "age": 17623,
                  "gender": 2,
                  "height": 169,
                  "weight": 82,
                  "ap_hi": 150,
                  "ap_lo": 100,
                  "cholesterol": 1,
                  "gluc": 1,
                  "smoke": 0,
                  "alco": 0,
                  "active": 1,
                  "cardio": 1,
                  "_deepnote_index_column": 3
                },
                {
                  "id": 4,
                  "age": 17474,
                  "gender": 1,
                  "height": 156,
                  "weight": 56,
                  "ap_hi": 100,
                  "ap_lo": 60,
                  "cholesterol": 1,
                  "gluc": 1,
                  "smoke": 0,
                  "alco": 0,
                  "active": 0,
                  "cardio": 0,
                  "_deepnote_index_column": 4
                }
              ]
            },
            "text/plain": "   id    age  gender  height  weight  ap_hi  ap_lo  cholesterol  gluc  smoke  \\\n0   0  18393       2     168    62.0    110     80            1     1      0   \n1   1  20228       1     156    85.0    140     90            3     1      0   \n2   2  18857       1     165    64.0    130     70            3     1      0   \n3   3  17623       2     169    82.0    150    100            1     1      0   \n4   4  17474       1     156    56.0    100     60            1     1      0   \n\n   alco  active  cardio  \n0     0       1       0  \n1     0       1       1  \n2     0       0       1  \n3     0       1       1  \n4     0       0       0  ",
            "text/html": "<div>\n<style scoped>\n    .dataframe tbody tr th:only-of-type {\n        vertical-align: middle;\n    }\n\n    .dataframe tbody tr th {\n        vertical-align: top;\n    }\n\n    .dataframe thead th {\n        text-align: right;\n    }\n</style>\n<table border=\"1\" class=\"dataframe\">\n  <thead>\n    <tr style=\"text-align: right;\">\n      <th></th>\n      <th>id</th>\n      <th>age</th>\n      <th>gender</th>\n      <th>height</th>\n      <th>weight</th>\n      <th>ap_hi</th>\n      <th>ap_lo</th>\n      <th>cholesterol</th>\n      <th>gluc</th>\n      <th>smoke</th>\n      <th>alco</th>\n      <th>active</th>\n      <th>cardio</th>\n    </tr>\n  </thead>\n  <tbody>\n    <tr>\n      <th>0</th>\n      <td>0</td>\n      <td>18393</td>\n      <td>2</td>\n      <td>168</td>\n      <td>62.0</td>\n      <td>110</td>\n      <td>80</td>\n      <td>1</td>\n      <td>1</td>\n      <td>0</td>\n      <td>0</td>\n      <td>1</td>\n      <td>0</td>\n    </tr>\n    <tr>\n      <th>1</th>\n      <td>1</td>\n      <td>20228</td>\n      <td>1</td>\n      <td>156</td>\n      <td>85.0</td>\n      <td>140</td>\n      <td>90</td>\n      <td>3</td>\n      <td>1</td>\n      <td>0</td>\n      <td>0</td>\n      <td>1</td>\n      <td>1</td>\n    </tr>\n    <tr>\n      <th>2</th>\n      <td>2</td>\n      <td>18857</td>\n      <td>1</td>\n      <td>165</td>\n      <td>64.0</td>\n      <td>130</td>\n      <td>70</td>\n      <td>3</td>\n      <td>1</td>\n      <td>0</td>\n      <td>0</td>\n      <td>0</td>\n      <td>1</td>\n    </tr>\n    <tr>\n      <th>3</th>\n      <td>3</td>\n      <td>17623</td>\n      <td>2</td>\n      <td>169</td>\n      <td>82.0</td>\n      <td>150</td>\n      <td>100</td>\n      <td>1</td>\n      <td>1</td>\n      <td>0</td>\n      <td>0</td>\n      <td>1</td>\n      <td>1</td>\n    </tr>\n    <tr>\n      <th>4</th>\n      <td>4</td>\n      <td>17474</td>\n      <td>1</td>\n      <td>156</td>\n      <td>56.0</td>\n      <td>100</td>\n      <td>60</td>\n      <td>1</td>\n      <td>1</td>\n      <td>0</td>\n      <td>0</td>\n      <td>0</td>\n      <td>0</td>\n    </tr>\n  </tbody>\n</table>\n</div>"
          },
          "metadata": {}
        }
      ],
      "execution_count": null
    },
    {
      "cell_type": "markdown",
      "source": "We add the 'overweight' column, where we set values 0 or 1, if the pacient is not overweight (0) or if it is overweight (1). It looks in the following way.  ",
      "metadata": {
        "tags": [],
        "cell_id": "6bda285d09344f05bbf2b54a1e780ded",
        "is_collapsed": false,
        "formattedRanges": [],
        "deepnote_app_coordinates": {
          "h": 2,
          "w": 24,
          "x": 0,
          "y": 21
        },
        "deepnote_cell_type": "text-cell-p"
      }
    },
    {
      "cell_type": "code",
      "source": "height2Meters = (df['height']/100)*(df['height']/100)\nIMC = df['weight'] / height2Meters \ndf.loc[IMC <= 25, 'overweight'] = 0 \ndf.loc[IMC > 25, 'overweight'] = 1 \ndf.head()",
      "metadata": {
        "tags": [],
        "cell_id": "62660f9f839a49829457a9601072a706",
        "source_hash": "86c34c16",
        "execution_start": 1685720406414,
        "execution_millis": 78,
        "deepnote_app_coordinates": {
          "h": 5,
          "w": 24,
          "x": 0,
          "y": 24
        },
        "deepnote_to_be_reexecuted": false,
        "deepnote_cell_type": "code"
      },
      "outputs": [
        {
          "output_type": "execute_result",
          "execution_count": 3,
          "data": {
            "application/vnd.deepnote.dataframe.v3+json": {
              "column_count": 14,
              "row_count": 5,
              "columns": [
                {
                  "name": "id",
                  "dtype": "int64",
                  "stats": {
                    "unique_count": 5,
                    "nan_count": 0,
                    "min": "0",
                    "max": "4",
                    "histogram": [
                      {
                        "bin_start": 0,
                        "bin_end": 0.4,
                        "count": 1
                      },
                      {
                        "bin_start": 0.4,
                        "bin_end": 0.8,
                        "count": 0
                      },
                      {
                        "bin_start": 0.8,
                        "bin_end": 1.2000000000000002,
                        "count": 1
                      },
                      {
                        "bin_start": 1.2000000000000002,
                        "bin_end": 1.6,
                        "count": 0
                      },
                      {
                        "bin_start": 1.6,
                        "bin_end": 2,
                        "count": 0
                      },
                      {
                        "bin_start": 2,
                        "bin_end": 2.4000000000000004,
                        "count": 1
                      },
                      {
                        "bin_start": 2.4000000000000004,
                        "bin_end": 2.8000000000000003,
                        "count": 0
                      },
                      {
                        "bin_start": 2.8000000000000003,
                        "bin_end": 3.2,
                        "count": 1
                      },
                      {
                        "bin_start": 3.2,
                        "bin_end": 3.6,
                        "count": 0
                      },
                      {
                        "bin_start": 3.6,
                        "bin_end": 4,
                        "count": 1
                      }
                    ]
                  }
                },
                {
                  "name": "age",
                  "dtype": "int64",
                  "stats": {
                    "unique_count": 5,
                    "nan_count": 0,
                    "min": "17474",
                    "max": "20228",
                    "histogram": [
                      {
                        "bin_start": 17474,
                        "bin_end": 17749.4,
                        "count": 2
                      },
                      {
                        "bin_start": 17749.4,
                        "bin_end": 18024.8,
                        "count": 0
                      },
                      {
                        "bin_start": 18024.8,
                        "bin_end": 18300.2,
                        "count": 0
                      },
                      {
                        "bin_start": 18300.2,
                        "bin_end": 18575.6,
                        "count": 1
                      },
                      {
                        "bin_start": 18575.6,
                        "bin_end": 18851,
                        "count": 0
                      },
                      {
                        "bin_start": 18851,
                        "bin_end": 19126.4,
                        "count": 1
                      },
                      {
                        "bin_start": 19126.4,
                        "bin_end": 19401.8,
                        "count": 0
                      },
                      {
                        "bin_start": 19401.8,
                        "bin_end": 19677.2,
                        "count": 0
                      },
                      {
                        "bin_start": 19677.2,
                        "bin_end": 19952.6,
                        "count": 0
                      },
                      {
                        "bin_start": 19952.6,
                        "bin_end": 20228,
                        "count": 1
                      }
                    ]
                  }
                },
                {
                  "name": "gender",
                  "dtype": "int64",
                  "stats": {
                    "unique_count": 2,
                    "nan_count": 0,
                    "min": "1",
                    "max": "2",
                    "histogram": [
                      {
                        "bin_start": 1,
                        "bin_end": 1.1,
                        "count": 3
                      },
                      {
                        "bin_start": 1.1,
                        "bin_end": 1.2,
                        "count": 0
                      },
                      {
                        "bin_start": 1.2,
                        "bin_end": 1.3,
                        "count": 0
                      },
                      {
                        "bin_start": 1.3,
                        "bin_end": 1.4,
                        "count": 0
                      },
                      {
                        "bin_start": 1.4,
                        "bin_end": 1.5,
                        "count": 0
                      },
                      {
                        "bin_start": 1.5,
                        "bin_end": 1.6,
                        "count": 0
                      },
                      {
                        "bin_start": 1.6,
                        "bin_end": 1.7000000000000002,
                        "count": 0
                      },
                      {
                        "bin_start": 1.7000000000000002,
                        "bin_end": 1.8,
                        "count": 0
                      },
                      {
                        "bin_start": 1.8,
                        "bin_end": 1.9,
                        "count": 0
                      },
                      {
                        "bin_start": 1.9,
                        "bin_end": 2,
                        "count": 2
                      }
                    ]
                  }
                },
                {
                  "name": "height",
                  "dtype": "int64",
                  "stats": {
                    "unique_count": 4,
                    "nan_count": 0,
                    "min": "156",
                    "max": "169",
                    "histogram": [
                      {
                        "bin_start": 156,
                        "bin_end": 157.3,
                        "count": 2
                      },
                      {
                        "bin_start": 157.3,
                        "bin_end": 158.6,
                        "count": 0
                      },
                      {
                        "bin_start": 158.6,
                        "bin_end": 159.9,
                        "count": 0
                      },
                      {
                        "bin_start": 159.9,
                        "bin_end": 161.2,
                        "count": 0
                      },
                      {
                        "bin_start": 161.2,
                        "bin_end": 162.5,
                        "count": 0
                      },
                      {
                        "bin_start": 162.5,
                        "bin_end": 163.8,
                        "count": 0
                      },
                      {
                        "bin_start": 163.8,
                        "bin_end": 165.1,
                        "count": 1
                      },
                      {
                        "bin_start": 165.1,
                        "bin_end": 166.4,
                        "count": 0
                      },
                      {
                        "bin_start": 166.4,
                        "bin_end": 167.7,
                        "count": 0
                      },
                      {
                        "bin_start": 167.7,
                        "bin_end": 169,
                        "count": 2
                      }
                    ]
                  }
                },
                {
                  "name": "weight",
                  "dtype": "float64",
                  "stats": {
                    "unique_count": 5,
                    "nan_count": 0,
                    "min": "56.0",
                    "max": "85.0",
                    "histogram": [
                      {
                        "bin_start": 56,
                        "bin_end": 58.9,
                        "count": 1
                      },
                      {
                        "bin_start": 58.9,
                        "bin_end": 61.8,
                        "count": 0
                      },
                      {
                        "bin_start": 61.8,
                        "bin_end": 64.7,
                        "count": 2
                      },
                      {
                        "bin_start": 64.7,
                        "bin_end": 67.6,
                        "count": 0
                      },
                      {
                        "bin_start": 67.6,
                        "bin_end": 70.5,
                        "count": 0
                      },
                      {
                        "bin_start": 70.5,
                        "bin_end": 73.4,
                        "count": 0
                      },
                      {
                        "bin_start": 73.4,
                        "bin_end": 76.3,
                        "count": 0
                      },
                      {
                        "bin_start": 76.3,
                        "bin_end": 79.2,
                        "count": 0
                      },
                      {
                        "bin_start": 79.2,
                        "bin_end": 82.1,
                        "count": 1
                      },
                      {
                        "bin_start": 82.1,
                        "bin_end": 85,
                        "count": 1
                      }
                    ]
                  }
                },
                {
                  "name": "ap_hi",
                  "dtype": "int64",
                  "stats": {
                    "unique_count": 5,
                    "nan_count": 0,
                    "min": "100",
                    "max": "150",
                    "histogram": [
                      {
                        "bin_start": 100,
                        "bin_end": 105,
                        "count": 1
                      },
                      {
                        "bin_start": 105,
                        "bin_end": 110,
                        "count": 0
                      },
                      {
                        "bin_start": 110,
                        "bin_end": 115,
                        "count": 1
                      },
                      {
                        "bin_start": 115,
                        "bin_end": 120,
                        "count": 0
                      },
                      {
                        "bin_start": 120,
                        "bin_end": 125,
                        "count": 0
                      },
                      {
                        "bin_start": 125,
                        "bin_end": 130,
                        "count": 0
                      },
                      {
                        "bin_start": 130,
                        "bin_end": 135,
                        "count": 1
                      },
                      {
                        "bin_start": 135,
                        "bin_end": 140,
                        "count": 0
                      },
                      {
                        "bin_start": 140,
                        "bin_end": 145,
                        "count": 1
                      },
                      {
                        "bin_start": 145,
                        "bin_end": 150,
                        "count": 1
                      }
                    ]
                  }
                },
                {
                  "name": "ap_lo",
                  "dtype": "int64",
                  "stats": {
                    "unique_count": 5,
                    "nan_count": 0,
                    "min": "60",
                    "max": "100",
                    "histogram": [
                      {
                        "bin_start": 60,
                        "bin_end": 64,
                        "count": 1
                      },
                      {
                        "bin_start": 64,
                        "bin_end": 68,
                        "count": 0
                      },
                      {
                        "bin_start": 68,
                        "bin_end": 72,
                        "count": 1
                      },
                      {
                        "bin_start": 72,
                        "bin_end": 76,
                        "count": 0
                      },
                      {
                        "bin_start": 76,
                        "bin_end": 80,
                        "count": 0
                      },
                      {
                        "bin_start": 80,
                        "bin_end": 84,
                        "count": 1
                      },
                      {
                        "bin_start": 84,
                        "bin_end": 88,
                        "count": 0
                      },
                      {
                        "bin_start": 88,
                        "bin_end": 92,
                        "count": 1
                      },
                      {
                        "bin_start": 92,
                        "bin_end": 96,
                        "count": 0
                      },
                      {
                        "bin_start": 96,
                        "bin_end": 100,
                        "count": 1
                      }
                    ]
                  }
                },
                {
                  "name": "cholesterol",
                  "dtype": "int64",
                  "stats": {
                    "unique_count": 2,
                    "nan_count": 0,
                    "min": "1",
                    "max": "3",
                    "histogram": [
                      {
                        "bin_start": 1,
                        "bin_end": 1.2,
                        "count": 3
                      },
                      {
                        "bin_start": 1.2,
                        "bin_end": 1.4,
                        "count": 0
                      },
                      {
                        "bin_start": 1.4,
                        "bin_end": 1.6,
                        "count": 0
                      },
                      {
                        "bin_start": 1.6,
                        "bin_end": 1.8,
                        "count": 0
                      },
                      {
                        "bin_start": 1.8,
                        "bin_end": 2,
                        "count": 0
                      },
                      {
                        "bin_start": 2,
                        "bin_end": 2.2,
                        "count": 0
                      },
                      {
                        "bin_start": 2.2,
                        "bin_end": 2.4000000000000004,
                        "count": 0
                      },
                      {
                        "bin_start": 2.4000000000000004,
                        "bin_end": 2.6,
                        "count": 0
                      },
                      {
                        "bin_start": 2.6,
                        "bin_end": 2.8,
                        "count": 0
                      },
                      {
                        "bin_start": 2.8,
                        "bin_end": 3,
                        "count": 2
                      }
                    ]
                  }
                },
                {
                  "name": "gluc",
                  "dtype": "int64",
                  "stats": {
                    "unique_count": 1,
                    "nan_count": 0,
                    "min": "1",
                    "max": "1",
                    "histogram": [
                      {
                        "bin_start": 0.5,
                        "bin_end": 0.6,
                        "count": 0
                      },
                      {
                        "bin_start": 0.6,
                        "bin_end": 0.7,
                        "count": 0
                      },
                      {
                        "bin_start": 0.7,
                        "bin_end": 0.8,
                        "count": 0
                      },
                      {
                        "bin_start": 0.8,
                        "bin_end": 0.9,
                        "count": 0
                      },
                      {
                        "bin_start": 0.9,
                        "bin_end": 1,
                        "count": 0
                      },
                      {
                        "bin_start": 1,
                        "bin_end": 1.1,
                        "count": 5
                      },
                      {
                        "bin_start": 1.1,
                        "bin_end": 1.2000000000000002,
                        "count": 0
                      },
                      {
                        "bin_start": 1.2000000000000002,
                        "bin_end": 1.3,
                        "count": 0
                      },
                      {
                        "bin_start": 1.3,
                        "bin_end": 1.4,
                        "count": 0
                      },
                      {
                        "bin_start": 1.4,
                        "bin_end": 1.5,
                        "count": 0
                      }
                    ]
                  }
                },
                {
                  "name": "smoke",
                  "dtype": "int64",
                  "stats": {
                    "unique_count": 1,
                    "nan_count": 0,
                    "min": "0",
                    "max": "0",
                    "histogram": [
                      {
                        "bin_start": -0.5,
                        "bin_end": -0.4,
                        "count": 0
                      },
                      {
                        "bin_start": -0.4,
                        "bin_end": -0.3,
                        "count": 0
                      },
                      {
                        "bin_start": -0.3,
                        "bin_end": -0.19999999999999996,
                        "count": 0
                      },
                      {
                        "bin_start": -0.19999999999999996,
                        "bin_end": -0.09999999999999998,
                        "count": 0
                      },
                      {
                        "bin_start": -0.09999999999999998,
                        "bin_end": 0,
                        "count": 0
                      },
                      {
                        "bin_start": 0,
                        "bin_end": 0.10000000000000009,
                        "count": 5
                      },
                      {
                        "bin_start": 0.10000000000000009,
                        "bin_end": 0.20000000000000007,
                        "count": 0
                      },
                      {
                        "bin_start": 0.20000000000000007,
                        "bin_end": 0.30000000000000004,
                        "count": 0
                      },
                      {
                        "bin_start": 0.30000000000000004,
                        "bin_end": 0.4,
                        "count": 0
                      },
                      {
                        "bin_start": 0.4,
                        "bin_end": 0.5,
                        "count": 0
                      }
                    ]
                  }
                },
                {
                  "name": "alco",
                  "dtype": "int64",
                  "stats": {
                    "unique_count": 1,
                    "nan_count": 0,
                    "min": "0",
                    "max": "0",
                    "histogram": [
                      {
                        "bin_start": -0.5,
                        "bin_end": -0.4,
                        "count": 0
                      },
                      {
                        "bin_start": -0.4,
                        "bin_end": -0.3,
                        "count": 0
                      },
                      {
                        "bin_start": -0.3,
                        "bin_end": -0.19999999999999996,
                        "count": 0
                      },
                      {
                        "bin_start": -0.19999999999999996,
                        "bin_end": -0.09999999999999998,
                        "count": 0
                      },
                      {
                        "bin_start": -0.09999999999999998,
                        "bin_end": 0,
                        "count": 0
                      },
                      {
                        "bin_start": 0,
                        "bin_end": 0.10000000000000009,
                        "count": 5
                      },
                      {
                        "bin_start": 0.10000000000000009,
                        "bin_end": 0.20000000000000007,
                        "count": 0
                      },
                      {
                        "bin_start": 0.20000000000000007,
                        "bin_end": 0.30000000000000004,
                        "count": 0
                      },
                      {
                        "bin_start": 0.30000000000000004,
                        "bin_end": 0.4,
                        "count": 0
                      },
                      {
                        "bin_start": 0.4,
                        "bin_end": 0.5,
                        "count": 0
                      }
                    ]
                  }
                },
                {
                  "name": "active",
                  "dtype": "int64",
                  "stats": {
                    "unique_count": 2,
                    "nan_count": 0,
                    "min": "0",
                    "max": "1",
                    "histogram": [
                      {
                        "bin_start": 0,
                        "bin_end": 0.1,
                        "count": 2
                      },
                      {
                        "bin_start": 0.1,
                        "bin_end": 0.2,
                        "count": 0
                      },
                      {
                        "bin_start": 0.2,
                        "bin_end": 0.30000000000000004,
                        "count": 0
                      },
                      {
                        "bin_start": 0.30000000000000004,
                        "bin_end": 0.4,
                        "count": 0
                      },
                      {
                        "bin_start": 0.4,
                        "bin_end": 0.5,
                        "count": 0
                      },
                      {
                        "bin_start": 0.5,
                        "bin_end": 0.6000000000000001,
                        "count": 0
                      },
                      {
                        "bin_start": 0.6000000000000001,
                        "bin_end": 0.7000000000000001,
                        "count": 0
                      },
                      {
                        "bin_start": 0.7000000000000001,
                        "bin_end": 0.8,
                        "count": 0
                      },
                      {
                        "bin_start": 0.8,
                        "bin_end": 0.9,
                        "count": 0
                      },
                      {
                        "bin_start": 0.9,
                        "bin_end": 1,
                        "count": 3
                      }
                    ]
                  }
                },
                {
                  "name": "cardio",
                  "dtype": "int64",
                  "stats": {
                    "unique_count": 2,
                    "nan_count": 0,
                    "min": "0",
                    "max": "1",
                    "histogram": [
                      {
                        "bin_start": 0,
                        "bin_end": 0.1,
                        "count": 2
                      },
                      {
                        "bin_start": 0.1,
                        "bin_end": 0.2,
                        "count": 0
                      },
                      {
                        "bin_start": 0.2,
                        "bin_end": 0.30000000000000004,
                        "count": 0
                      },
                      {
                        "bin_start": 0.30000000000000004,
                        "bin_end": 0.4,
                        "count": 0
                      },
                      {
                        "bin_start": 0.4,
                        "bin_end": 0.5,
                        "count": 0
                      },
                      {
                        "bin_start": 0.5,
                        "bin_end": 0.6000000000000001,
                        "count": 0
                      },
                      {
                        "bin_start": 0.6000000000000001,
                        "bin_end": 0.7000000000000001,
                        "count": 0
                      },
                      {
                        "bin_start": 0.7000000000000001,
                        "bin_end": 0.8,
                        "count": 0
                      },
                      {
                        "bin_start": 0.8,
                        "bin_end": 0.9,
                        "count": 0
                      },
                      {
                        "bin_start": 0.9,
                        "bin_end": 1,
                        "count": 3
                      }
                    ]
                  }
                },
                {
                  "name": "overweight",
                  "dtype": "float64",
                  "stats": {
                    "unique_count": 2,
                    "nan_count": 0,
                    "min": "0.0",
                    "max": "1.0",
                    "histogram": [
                      {
                        "bin_start": 0,
                        "bin_end": 0.1,
                        "count": 3
                      },
                      {
                        "bin_start": 0.1,
                        "bin_end": 0.2,
                        "count": 0
                      },
                      {
                        "bin_start": 0.2,
                        "bin_end": 0.30000000000000004,
                        "count": 0
                      },
                      {
                        "bin_start": 0.30000000000000004,
                        "bin_end": 0.4,
                        "count": 0
                      },
                      {
                        "bin_start": 0.4,
                        "bin_end": 0.5,
                        "count": 0
                      },
                      {
                        "bin_start": 0.5,
                        "bin_end": 0.6000000000000001,
                        "count": 0
                      },
                      {
                        "bin_start": 0.6000000000000001,
                        "bin_end": 0.7000000000000001,
                        "count": 0
                      },
                      {
                        "bin_start": 0.7000000000000001,
                        "bin_end": 0.8,
                        "count": 0
                      },
                      {
                        "bin_start": 0.8,
                        "bin_end": 0.9,
                        "count": 0
                      },
                      {
                        "bin_start": 0.9,
                        "bin_end": 1,
                        "count": 2
                      }
                    ]
                  }
                },
                {
                  "name": "_deepnote_index_column",
                  "dtype": "int64"
                }
              ],
              "rows": [
                {
                  "id": 0,
                  "age": 18393,
                  "gender": 2,
                  "height": 168,
                  "weight": 62,
                  "ap_hi": 110,
                  "ap_lo": 80,
                  "cholesterol": 1,
                  "gluc": 1,
                  "smoke": 0,
                  "alco": 0,
                  "active": 1,
                  "cardio": 0,
                  "overweight": 0,
                  "_deepnote_index_column": 0
                },
                {
                  "id": 1,
                  "age": 20228,
                  "gender": 1,
                  "height": 156,
                  "weight": 85,
                  "ap_hi": 140,
                  "ap_lo": 90,
                  "cholesterol": 3,
                  "gluc": 1,
                  "smoke": 0,
                  "alco": 0,
                  "active": 1,
                  "cardio": 1,
                  "overweight": 1,
                  "_deepnote_index_column": 1
                },
                {
                  "id": 2,
                  "age": 18857,
                  "gender": 1,
                  "height": 165,
                  "weight": 64,
                  "ap_hi": 130,
                  "ap_lo": 70,
                  "cholesterol": 3,
                  "gluc": 1,
                  "smoke": 0,
                  "alco": 0,
                  "active": 0,
                  "cardio": 1,
                  "overweight": 0,
                  "_deepnote_index_column": 2
                },
                {
                  "id": 3,
                  "age": 17623,
                  "gender": 2,
                  "height": 169,
                  "weight": 82,
                  "ap_hi": 150,
                  "ap_lo": 100,
                  "cholesterol": 1,
                  "gluc": 1,
                  "smoke": 0,
                  "alco": 0,
                  "active": 1,
                  "cardio": 1,
                  "overweight": 1,
                  "_deepnote_index_column": 3
                },
                {
                  "id": 4,
                  "age": 17474,
                  "gender": 1,
                  "height": 156,
                  "weight": 56,
                  "ap_hi": 100,
                  "ap_lo": 60,
                  "cholesterol": 1,
                  "gluc": 1,
                  "smoke": 0,
                  "alco": 0,
                  "active": 0,
                  "cardio": 0,
                  "overweight": 0,
                  "_deepnote_index_column": 4
                }
              ]
            },
            "text/plain": "   id    age  gender  height  weight  ap_hi  ap_lo  cholesterol  gluc  smoke  \\\n0   0  18393       2     168    62.0    110     80            1     1      0   \n1   1  20228       1     156    85.0    140     90            3     1      0   \n2   2  18857       1     165    64.0    130     70            3     1      0   \n3   3  17623       2     169    82.0    150    100            1     1      0   \n4   4  17474       1     156    56.0    100     60            1     1      0   \n\n   alco  active  cardio  overweight  \n0     0       1       0         0.0  \n1     0       1       1         1.0  \n2     0       0       1         0.0  \n3     0       1       1         1.0  \n4     0       0       0         0.0  ",
            "text/html": "<div>\n<style scoped>\n    .dataframe tbody tr th:only-of-type {\n        vertical-align: middle;\n    }\n\n    .dataframe tbody tr th {\n        vertical-align: top;\n    }\n\n    .dataframe thead th {\n        text-align: right;\n    }\n</style>\n<table border=\"1\" class=\"dataframe\">\n  <thead>\n    <tr style=\"text-align: right;\">\n      <th></th>\n      <th>id</th>\n      <th>age</th>\n      <th>gender</th>\n      <th>height</th>\n      <th>weight</th>\n      <th>ap_hi</th>\n      <th>ap_lo</th>\n      <th>cholesterol</th>\n      <th>gluc</th>\n      <th>smoke</th>\n      <th>alco</th>\n      <th>active</th>\n      <th>cardio</th>\n      <th>overweight</th>\n    </tr>\n  </thead>\n  <tbody>\n    <tr>\n      <th>0</th>\n      <td>0</td>\n      <td>18393</td>\n      <td>2</td>\n      <td>168</td>\n      <td>62.0</td>\n      <td>110</td>\n      <td>80</td>\n      <td>1</td>\n      <td>1</td>\n      <td>0</td>\n      <td>0</td>\n      <td>1</td>\n      <td>0</td>\n      <td>0.0</td>\n    </tr>\n    <tr>\n      <th>1</th>\n      <td>1</td>\n      <td>20228</td>\n      <td>1</td>\n      <td>156</td>\n      <td>85.0</td>\n      <td>140</td>\n      <td>90</td>\n      <td>3</td>\n      <td>1</td>\n      <td>0</td>\n      <td>0</td>\n      <td>1</td>\n      <td>1</td>\n      <td>1.0</td>\n    </tr>\n    <tr>\n      <th>2</th>\n      <td>2</td>\n      <td>18857</td>\n      <td>1</td>\n      <td>165</td>\n      <td>64.0</td>\n      <td>130</td>\n      <td>70</td>\n      <td>3</td>\n      <td>1</td>\n      <td>0</td>\n      <td>0</td>\n      <td>0</td>\n      <td>1</td>\n      <td>0.0</td>\n    </tr>\n    <tr>\n      <th>3</th>\n      <td>3</td>\n      <td>17623</td>\n      <td>2</td>\n      <td>169</td>\n      <td>82.0</td>\n      <td>150</td>\n      <td>100</td>\n      <td>1</td>\n      <td>1</td>\n      <td>0</td>\n      <td>0</td>\n      <td>1</td>\n      <td>1</td>\n      <td>1.0</td>\n    </tr>\n    <tr>\n      <th>4</th>\n      <td>4</td>\n      <td>17474</td>\n      <td>1</td>\n      <td>156</td>\n      <td>56.0</td>\n      <td>100</td>\n      <td>60</td>\n      <td>1</td>\n      <td>1</td>\n      <td>0</td>\n      <td>0</td>\n      <td>0</td>\n      <td>0</td>\n      <td>0.0</td>\n    </tr>\n  </tbody>\n</table>\n</div>"
          },
          "metadata": {}
        }
      ],
      "execution_count": null
    },
    {
      "cell_type": "markdown",
      "source": "We also normalize the values of Cholesterol and Glucosa. ",
      "metadata": {
        "tags": [],
        "cell_id": "61a35df14bf64ef6afa5f0dca1518b34",
        "is_collapsed": false,
        "formattedRanges": [],
        "deepnote_app_coordinates": {
          "h": 2,
          "w": 24,
          "x": 0,
          "y": 30
        },
        "deepnote_cell_type": "text-cell-p"
      }
    },
    {
      "cell_type": "code",
      "source": "df.loc[df['cholesterol']==1, 'cholesterol'] = 0 \ndf.loc[df['cholesterol']>1, 'cholesterol'] = 1 \ndf.loc[df['gluc']==1, 'gluc'] = 0 \ndf.loc[df['gluc']>1, 'gluc'] = 1",
      "metadata": {
        "tags": [],
        "cell_id": "494e01ba67c9415392d031f1d1454b1c",
        "source_hash": "299f0883",
        "execution_start": 1685720406495,
        "execution_millis": 8,
        "deepnote_app_coordinates": {
          "h": 5,
          "w": 24,
          "x": 0,
          "y": 33
        },
        "deepnote_to_be_reexecuted": false,
        "deepnote_cell_type": "code"
      },
      "outputs": [],
      "execution_count": null
    },
    {
      "cell_type": "markdown",
      "source": "Now we will prepare the data frame in a long format, to plot by the different variables (diseases). ",
      "metadata": {
        "tags": [],
        "cell_id": "1dcd61788bfc4108b2718c46b70ee1ea",
        "is_collapsed": false,
        "formattedRanges": [],
        "deepnote_app_coordinates": {
          "h": 2,
          "w": 24,
          "x": 0,
          "y": 39
        },
        "deepnote_cell_type": "text-cell-p"
      }
    },
    {
      "cell_type": "code",
      "source": "df_cat = pd.melt(df, id_vars=['cardio'], value_vars=['active','alco','cholesterol','gluc','overweight','smoke'])",
      "metadata": {
        "tags": [],
        "cell_id": "b8dcd31042ca451eb47447964b135cc7",
        "source_hash": "f801eddf",
        "execution_start": 1685720406563,
        "execution_millis": 43,
        "deepnote_app_coordinates": {
          "h": 5,
          "w": 24,
          "x": 0,
          "y": 42
        },
        "deepnote_to_be_reexecuted": false,
        "deepnote_cell_type": "code"
      },
      "outputs": [],
      "execution_count": null
    },
    {
      "cell_type": "markdown",
      "source": "The count plot by different diseases for two different cardio values is the following:     ",
      "metadata": {
        "tags": [],
        "cell_id": "054e2c4a6c94439aa7afc55dc58ec3b6",
        "is_collapsed": false,
        "formattedRanges": [],
        "deepnote_app_coordinates": {
          "h": 2,
          "w": 24,
          "x": 0,
          "y": 48
        },
        "deepnote_cell_type": "text-cell-p"
      }
    },
    {
      "cell_type": "code",
      "source": "sns.catplot(x='variable',col='cardio',hue='value',kind='count',data=df_cat)",
      "metadata": {
        "tags": [],
        "cell_id": "b125c1659ae142d880c21d0c92de0528",
        "source_hash": "a8fa3a03",
        "execution_start": 1685720406605,
        "execution_millis": 1152,
        "deepnote_app_coordinates": {
          "h": 5,
          "w": 24,
          "x": 0,
          "y": 51
        },
        "deepnote_to_be_reexecuted": false,
        "deepnote_cell_type": "code"
      },
      "outputs": [
        {
          "output_type": "execute_result",
          "execution_count": 6,
          "data": {
            "text/plain": "<seaborn.axisgrid.FacetGrid at 0x7fd9d29a1d50>"
          },
          "metadata": {}
        },
        {
          "data": {
            "text/plain": "<Figure size 1072x500 with 2 Axes>",
            "image/png": "[encoded data removed]"
          },
          "metadata": {
            "image/png": {
              "width": 1063,
              "height": 490
            }
          },
          "output_type": "display_data"
        }
      ],
      "execution_count": null
    },
    {
      "cell_type": "markdown",
      "source": "We see that the most of the diseases are strongly correlated with 'heart disease' (cardio). Where Cholesterol and overweight the most dramatic cases. Now we will filter wrong data, especially those cases where the 'high value of blood pressure' is lower than the 'low value of blood pressure'. We also filter the height and weight values which are over the 97.5% and the data and below the 2.5% of the values, in order to avoid possible wrong data.     ",
      "metadata": {
        "tags": [],
        "cell_id": "6fb78a339b3649bca230ad1ca795e6f4",
        "is_collapsed": false,
        "formattedRanges": [],
        "deepnote_app_coordinates": {
          "h": 2,
          "w": 24,
          "x": 0,
          "y": 57
        },
        "deepnote_cell_type": "text-cell-p"
      }
    },
    {
      "cell_type": "code",
      "source": "df_filtered = df[(df['ap_lo'] <= df['ap_hi']) & (df['height'] >= df['height'].quantile(0.025)) & (df['height'] < df['height'].quantile(0.975)) & (df['weight'] >= df['weight'].quantile(0.025)) & (df['weight'] < df['weight'].quantile(0.975))]",
      "metadata": {
        "tags": [],
        "cell_id": "4f634dcf475f4b1c80278d75750d1d1d",
        "source_hash": "8ba6d74e",
        "execution_start": 1685720407966,
        "execution_millis": 9,
        "deepnote_app_coordinates": {
          "h": 5,
          "w": 24,
          "x": 0,
          "y": 60
        },
        "deepnote_to_be_reexecuted": false,
        "deepnote_cell_type": "code"
      },
      "outputs": [],
      "execution_count": null
    },
    {
      "cell_type": "markdown",
      "source": "With this filtered data frame we create a correlation matrix, that gives the connection between differnet deseases.    ",
      "metadata": {
        "tags": [],
        "cell_id": "0d1a3faad6f34cb8b4ba1da221bb921f",
        "is_collapsed": false,
        "formattedRanges": [],
        "deepnote_app_coordinates": {
          "h": 2,
          "w": 24,
          "x": 0,
          "y": 66
        },
        "deepnote_cell_type": "text-cell-p"
      }
    },
    {
      "cell_type": "code",
      "source": "Corr = df_filtered.corr()",
      "metadata": {
        "tags": [],
        "cell_id": "14274ed760ae4071b113d1526f94123f",
        "source_hash": "1aef04ec",
        "execution_start": 1685720407976,
        "execution_millis": 47,
        "deepnote_app_coordinates": {
          "h": 5,
          "w": 24,
          "x": 0,
          "y": 69
        },
        "deepnote_to_be_reexecuted": false,
        "deepnote_cell_type": "code"
      },
      "outputs": [],
      "execution_count": null
    },
    {
      "cell_type": "markdown",
      "source": "Finally, we crate a heatmap whit the correlation matrix, that shows numerically which are the most correlated deseases.     ",
      "metadata": {
        "tags": [],
        "cell_id": "36b823886add4e3e8da21bc3462d5bc7",
        "is_collapsed": false,
        "formattedRanges": [],
        "deepnote_app_coordinates": {
          "h": 2,
          "w": 24,
          "x": 0,
          "y": 75
        },
        "deepnote_cell_type": "text-cell-p"
      }
    },
    {
      "cell_type": "code",
      "source": "mask = np.zeros_like(Corr)\nmask[np.triu_indices_from(mask)] = True\nwith sns.axes_style(\"white\"):\n    f, fig = plt.subplots(figsize=(12, 7))\n    fig = sns.heatmap(Corr,vmin=0,vmax=.25,square=True,annot=True,linewidths=.5,fmt=\".1f\",mask=mask)",
      "metadata": {
        "tags": [],
        "cell_id": "d6f2da312e5243b1917fb4985a03557d",
        "source_hash": "80d004c1",
        "execution_start": 1685720408064,
        "execution_millis": 1360,
        "deepnote_app_coordinates": {
          "h": 5,
          "w": 24,
          "x": 0,
          "y": 78
        },
        "deepnote_to_be_reexecuted": false,
        "deepnote_cell_type": "code"
      },
      "outputs": [
        {
          "data": {
            "text/plain": "<Figure size 1200x700 with 2 Axes>",
            "image/png": "[encoded data removed]"
          },
          "metadata": {
            "image/png": {
              "width": 760,
              "height": 652
            }
          },
          "output_type": "display_data"
        }
      ],
      "execution_count": null
    },
    {
      "cell_type": "markdown",
      "source": "As we spect, the most correlated variables are:  weight - overweight, gender - smoke, cholesterol - glucosa and gender - height.   ",
      "metadata": {
        "tags": [],
        "cell_id": "763f313d6dce4bd8815c6d7d8dac55c7",
        "is_collapsed": false,
        "formattedRanges": [],
        "deepnote_app_coordinates": {
          "h": 2,
          "w": 24,
          "x": 0,
          "y": 84
        },
        "deepnote_cell_type": "text-cell-p"
      }
    },
    {
      "cell_type": "markdown",
      "source": "<a style='text-decoration:none;line-height:16px;display:flex;color:#5B5B62;padding:10px;justify-content:end;' href='https://deepnote.com?utm_source=created-in-deepnote-cell&projectId=1773e344-c1b1-4634-b49b-d0524e80c97e' target=\"_blank\">\n<img alt='Created in deepnote.com' style='display:inline;max-height:16px;margin:0px;margin-right:7.5px;' src='data:image/svg+xml;base64,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' > </img>\nCreated in <span style='font-weight:600;margin-left:4px;'>Deepnote</span></a>",
      "metadata": {
        "created_in_deepnote_cell": true,
        "deepnote_cell_type": "markdown"
      }
    }
  ],
  "nbformat": 4,
  "nbformat_minor": 0,
  "metadata": {
    "deepnote": {
      "is_reactive": false
    },
    "orig_nbformat": 2,
    "deepnote_app_layout": "article",
    "deepnote_notebook_id": "63f22db8f48c40c095cb22ff51cc9969",
    "deepnote_execution_queue": []
  }
}